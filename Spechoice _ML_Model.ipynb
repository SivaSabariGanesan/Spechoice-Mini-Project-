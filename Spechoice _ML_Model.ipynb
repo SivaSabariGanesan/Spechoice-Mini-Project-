{
  "nbformat": 4,
  "nbformat_minor": 0,
  "metadata": {
    "colab": {
      "provenance": [],
      "gpuType": "T4",
      "authorship_tag": "ABX9TyN6a4k1mJZdzv6U+qhblZ5b",
      "include_colab_link": true
    },
    "kernelspec": {
      "name": "python3",
      "display_name": "Python 3"
    },
    "language_info": {
      "name": "python"
    },
    "accelerator": "GPU"
  },
  "cells": [
    {
      "cell_type": "markdown",
      "metadata": {
        "id": "view-in-github",
        "colab_type": "text"
      },
      "source": [
        "<a href=\"https://colab.research.google.com/github/230701292-Sanjeev-Aditya/CS23334-FDS/blob/main/Spechoice%20Mini%20Project/Spechoice_Model.ipynb\" target=\"_parent\"><img src=\"https://colab.research.google.com/assets/colab-badge.svg\" alt=\"Open In Colab\"/></a>"
      ]
    },
    {
      "cell_type": "code",
      "execution_count": 7,
      "metadata": {
        "colab": {
          "base_uri": "https://localhost:8080/",
          "height": 0
        },
        "id": "F5H5iEhzvlWU",
        "outputId": "5f1bdf1a-3e15-4f11-b113-07bc5ef50e3a"
      },
      "outputs": [
        {
          "output_type": "stream",
          "name": "stdout",
          "text": [
            "Accuracy: 0.24\n",
            "Classification Report:\n",
            "              precision    recall  f1-score   support\n",
            "\n",
            "           1       0.25      0.25      0.25        12\n",
            "           2       0.33      0.26      0.29        19\n",
            "           3       0.20      0.29      0.24        14\n",
            "           4       0.22      0.28      0.24        18\n",
            "           5       0.20      0.12      0.15        17\n",
            "\n",
            "    accuracy                           0.24        80\n",
            "   macro avg       0.24      0.24      0.23        80\n",
            "weighted avg       0.24      0.24      0.23        80\n",
            "\n"
          ]
        },
        {
          "output_type": "stream",
          "name": "stderr",
          "text": [
            "<ipython-input-7-099d7a68762a>:18: SettingWithCopyWarning: \n",
            "A value is trying to be set on a copy of a slice from a DataFrame.\n",
            "Try using .loc[row_indexer,col_indexer] = value instead\n",
            "\n",
            "See the caveats in the documentation: https://pandas.pydata.org/pandas-docs/stable/user_guide/indexing.html#returning-a-view-versus-a-copy\n",
            "  features[column] = le.fit_transform(features[column])\n",
            "<ipython-input-7-099d7a68762a>:18: SettingWithCopyWarning: \n",
            "A value is trying to be set on a copy of a slice from a DataFrame.\n",
            "Try using .loc[row_indexer,col_indexer] = value instead\n",
            "\n",
            "See the caveats in the documentation: https://pandas.pydata.org/pandas-docs/stable/user_guide/indexing.html#returning-a-view-versus-a-copy\n",
            "  features[column] = le.fit_transform(features[column])\n",
            "<ipython-input-7-099d7a68762a>:18: SettingWithCopyWarning: \n",
            "A value is trying to be set on a copy of a slice from a DataFrame.\n",
            "Try using .loc[row_indexer,col_indexer] = value instead\n",
            "\n",
            "See the caveats in the documentation: https://pandas.pydata.org/pandas-docs/stable/user_guide/indexing.html#returning-a-view-versus-a-copy\n",
            "  features[column] = le.fit_transform(features[column])\n",
            "<ipython-input-7-099d7a68762a>:18: SettingWithCopyWarning: \n",
            "A value is trying to be set on a copy of a slice from a DataFrame.\n",
            "Try using .loc[row_indexer,col_indexer] = value instead\n",
            "\n",
            "See the caveats in the documentation: https://pandas.pydata.org/pandas-docs/stable/user_guide/indexing.html#returning-a-view-versus-a-copy\n",
            "  features[column] = le.fit_transform(features[column])\n",
            "<ipython-input-7-099d7a68762a>:18: SettingWithCopyWarning: \n",
            "A value is trying to be set on a copy of a slice from a DataFrame.\n",
            "Try using .loc[row_indexer,col_indexer] = value instead\n",
            "\n",
            "See the caveats in the documentation: https://pandas.pydata.org/pandas-docs/stable/user_guide/indexing.html#returning-a-view-versus-a-copy\n",
            "  features[column] = le.fit_transform(features[column])\n",
            "<ipython-input-7-099d7a68762a>:18: SettingWithCopyWarning: \n",
            "A value is trying to be set on a copy of a slice from a DataFrame.\n",
            "Try using .loc[row_indexer,col_indexer] = value instead\n",
            "\n",
            "See the caveats in the documentation: https://pandas.pydata.org/pandas-docs/stable/user_guide/indexing.html#returning-a-view-versus-a-copy\n",
            "  features[column] = le.fit_transform(features[column])\n"
          ]
        }
      ],
      "source": [
        "import pandas as pd\n",
        "from sklearn.model_selection import train_test_split\n",
        "from sklearn.preprocessing import LabelEncoder\n",
        "from sklearn.ensemble import RandomForestClassifier\n",
        "from sklearn.metrics import accuracy_score, classification_report\n",
        "#Load the Data Set\n",
        "data = pd.read_csv('Spechoice DataSet.csv')\n",
        "\n",
        "# Preprocessing the data\n",
        "# Select relevant features and target variable\n",
        "features = data[['FaceShape', 'LensType', 'FrameMaterial', 'FrameColor', 'LensCoating', 'CustomizationTechnology']]\n",
        "target = data['SatisfactionRating']\n",
        "\n",
        "# Encode categorical variables\n",
        "label_encoders = {}\n",
        "for column in features.columns:\n",
        "    le = LabelEncoder()\n",
        "    features[column] = le.fit_transform(features[column])\n",
        "    label_encoders[column] = le\n",
        "\n",
        "# Split the data into training and testing sets\n",
        "X_train, X_test, y_train, y_test = train_test_split(features, target, test_size=0.2, random_state=42)\n",
        "\n",
        "# Train a Random Forest Classifier\n",
        "model = RandomForestClassifier(n_estimators=100, random_state=42)\n",
        "model.fit(X_train, y_train)\n",
        "\n",
        "# Make predictions\n",
        "y_pred = model.predict(X_test)\n",
        "\n",
        "# Evaluate the model\n",
        "accuracy = accuracy_score(y_test, y_pred)\n",
        "report = classification_report(y_test, y_pred)\n",
        "\n",
        "print(f'Accuracy: {accuracy:.2f}')\n",
        "print('Classification Report:')\n",
        "print(report)"
      ]
    },
    {
      "cell_type": "code",
      "source": [
        "import pandas as pd\n",
        "from sklearn.model_selection import train_test_split\n",
        "from sklearn.preprocessing import LabelEncoder\n",
        "from sklearn.ensemble import RandomForestClassifier\n",
        "from sklearn.metrics import accuracy_score\n",
        "\n",
        "# Load the dataset\n",
        "data = pd.read_csv('Spechoice DataSet.csv')\n",
        "\n",
        "# Preprocessing the data\n",
        "# Select relevant features and target variable\n",
        "features = data[['FaceShape', 'LensType', 'FrameMaterial', 'FrameColor', 'LensCoating', 'CustomizationTechnology']]\n",
        "target = data['SatisfactionRating']\n",
        "\n",
        "# Encode categorical variables\n",
        "label_encoders = {}\n",
        "for column in features.columns:\n",
        "    le = LabelEncoder()\n",
        "    features[column] = le.fit_transform(features[column])\n",
        "    label_encoders[column] = le\n",
        "\n",
        "# Split the data into training and testing sets\n",
        "X_train, X_test, y_train, y_test = train_test_split(features, target, test_size=0.2, random_state=42)\n",
        "\n",
        "# Train a Random Forest Classifier\n",
        "model = RandomForestClassifier(n_estimators=100, random_state=42)\n",
        "model.fit(X_train, y_train)\n",
        "\n",
        "# Function to predict best eyewear based on customer input\n",
        "def predict_best_eyewear(face_shape, lens_type, frame_material, frame_color, lens_coating, customization_technology):\n",
        "    # Prepare input data for prediction\n",
        "    input_data = pd.DataFrame({\n",
        "        'FaceShape': [face_shape],\n",
        "        'LensType': [lens_type],\n",
        "        'FrameMaterial': [frame_material],\n",
        "        'FrameColor': [frame_color],\n",
        "        'LensCoating': [lens_coating],\n",
        "        'CustomizationTechnology': [customization_technology]\n",
        "    })\n",
        "\n",
        "    # Encode the input data using the fitted label encoders\n",
        "    for column in input_data.columns:\n",
        "        if column in label_encoders:\n",
        "            input_data[column] = label_encoders[column].transform(input_data[column])\n",
        "\n",
        "    # Make prediction\n",
        "    predicted_rating = model.predict(input_data)\n",
        "\n",
        "    return predicted_rating[0]\n",
        "\n",
        "# Example usage of the prediction function\n",
        "best_eyewear_rating = predict_best_eyewear('Round', 'Single Vision', 'Plastic', 'Black', 'Scratch Resistant', 'AI Customization')\n",
        "print(f'The predicted satisfaction rating for the selected eyewear is: {best_eyewear_rating}')"
      ],
      "metadata": {
        "colab": {
          "base_uri": "https://localhost:8080/",
          "height": 0
        },
        "id": "U_32MJ7PzG3L",
        "outputId": "5a766933-221c-4f18-cfc3-05cb5015333a"
      },
      "execution_count": 6,
      "outputs": [
        {
          "output_type": "stream",
          "name": "stderr",
          "text": [
            "<ipython-input-6-7387eae607a0>:19: SettingWithCopyWarning: \n",
            "A value is trying to be set on a copy of a slice from a DataFrame.\n",
            "Try using .loc[row_indexer,col_indexer] = value instead\n",
            "\n",
            "See the caveats in the documentation: https://pandas.pydata.org/pandas-docs/stable/user_guide/indexing.html#returning-a-view-versus-a-copy\n",
            "  features[column] = le.fit_transform(features[column])\n",
            "<ipython-input-6-7387eae607a0>:19: SettingWithCopyWarning: \n",
            "A value is trying to be set on a copy of a slice from a DataFrame.\n",
            "Try using .loc[row_indexer,col_indexer] = value instead\n",
            "\n",
            "See the caveats in the documentation: https://pandas.pydata.org/pandas-docs/stable/user_guide/indexing.html#returning-a-view-versus-a-copy\n",
            "  features[column] = le.fit_transform(features[column])\n",
            "<ipython-input-6-7387eae607a0>:19: SettingWithCopyWarning: \n",
            "A value is trying to be set on a copy of a slice from a DataFrame.\n",
            "Try using .loc[row_indexer,col_indexer] = value instead\n",
            "\n",
            "See the caveats in the documentation: https://pandas.pydata.org/pandas-docs/stable/user_guide/indexing.html#returning-a-view-versus-a-copy\n",
            "  features[column] = le.fit_transform(features[column])\n",
            "<ipython-input-6-7387eae607a0>:19: SettingWithCopyWarning: \n",
            "A value is trying to be set on a copy of a slice from a DataFrame.\n",
            "Try using .loc[row_indexer,col_indexer] = value instead\n",
            "\n",
            "See the caveats in the documentation: https://pandas.pydata.org/pandas-docs/stable/user_guide/indexing.html#returning-a-view-versus-a-copy\n",
            "  features[column] = le.fit_transform(features[column])\n",
            "<ipython-input-6-7387eae607a0>:19: SettingWithCopyWarning: \n",
            "A value is trying to be set on a copy of a slice from a DataFrame.\n",
            "Try using .loc[row_indexer,col_indexer] = value instead\n",
            "\n",
            "See the caveats in the documentation: https://pandas.pydata.org/pandas-docs/stable/user_guide/indexing.html#returning-a-view-versus-a-copy\n",
            "  features[column] = le.fit_transform(features[column])\n",
            "<ipython-input-6-7387eae607a0>:19: SettingWithCopyWarning: \n",
            "A value is trying to be set on a copy of a slice from a DataFrame.\n",
            "Try using .loc[row_indexer,col_indexer] = value instead\n",
            "\n",
            "See the caveats in the documentation: https://pandas.pydata.org/pandas-docs/stable/user_guide/indexing.html#returning-a-view-versus-a-copy\n",
            "  features[column] = le.fit_transform(features[column])\n"
          ]
        },
        {
          "output_type": "stream",
          "name": "stdout",
          "text": [
            "The predicted satisfaction rating for the selected eyewear is: 4\n"
          ]
        }
      ]
    },
    {
      "cell_type": "code",
      "source": [
        "import pandas as pd\n",
        "\n",
        "# Load the dataset\n",
        "data = pd.read_csv('Spechoice DataSet.csv')\n",
        "\n",
        "# Function to recommend eyewear frame specifications based on face shape and color\n",
        "def recommend_frame_by_face_shape_and_color(face_shape, frame_color):\n",
        "    # Filter the dataset for the given face shape and frame color\n",
        "    filtered_data = data[(data['FaceShape'] == face_shape) & (data['FrameColor'] == frame_color)]\n",
        "\n",
        "    # If no data is found for the given face shape and color\n",
        "    if filtered_data.empty:\n",
        "        return f\"No eyewear recommendations found for face shape: {face_shape} and frame color: {frame_color}\"\n",
        "\n",
        "    # Get the average satisfaction rating for each frame specification\n",
        "    recommendations = filtered_data.groupby(['LensType', 'FrameMaterial', 'LensCoating', 'CustomizationTechnology']).agg({\n",
        "        'SatisfactionRating': 'mean'\n",
        "    }).reset_index()\n",
        "\n",
        "    # Sort recommendations by satisfaction rating in descending order\n",
        "    recommendations = recommendations.sort_values(by='SatisfactionRating', ascending=False)\n",
        "\n",
        "    return recommendations\n",
        "\n",
        "# Example usage of the recommendation function\n",
        "face_shape_input = 'Round'  # Input face shape\n",
        "frame_color_input = 'Black'  # Input frame color\n",
        "recommended_frames = recommend_frame_by_face_shape_and_color(face_shape_input, frame_color_input)\n",
        "\n",
        "print(f\"Recommended eyewear specifications for face shape '{face_shape_input}' and frame color '{frame_color_input}':\")\n",
        "print(recommended_frames)"
      ],
      "metadata": {
        "colab": {
          "base_uri": "https://localhost:8080/",
          "height": 0
        },
        "id": "YEf08ZF-1Xy0",
        "outputId": "19c33d9a-45cf-443d-e9c8-dc1d129165e6"
      },
      "execution_count": 9,
      "outputs": [
        {
          "output_type": "stream",
          "name": "stdout",
          "text": [
            "Recommended eyewear specifications for face shape 'Round' and frame color 'Black':\n",
            "               LensType FrameMaterial        LensCoating  \\\n",
            "10          Progressive      Titanium      UV Protection   \n",
            "6           Progressive         Metal      UV Protection   \n",
            "3   Blue Light Blocking      Titanium      UV Protection   \n",
            "1   Blue Light Blocking       Plastic  Scratch Resistant   \n",
            "4           Progressive         Metal    Anti-Reflective   \n",
            "9           Progressive      Titanium    Anti-Reflective   \n",
            "11        Single Vision      Titanium    Anti-Reflective   \n",
            "2   Blue Light Blocking       Plastic      UV Protection   \n",
            "5           Progressive         Metal    Anti-Reflective   \n",
            "7           Progressive       Plastic    Anti-Reflective   \n",
            "0   Blue Light Blocking         Metal  Scratch Resistant   \n",
            "8           Progressive       Plastic      UV Protection   \n",
            "\n",
            "   CustomizationTechnology  SatisfactionRating  \n",
            "10        AI Customization                 5.0  \n",
            "6         AI Customization                 4.0  \n",
            "3         AI Customization                 3.5  \n",
            "1              3D Scanning                 3.0  \n",
            "4              3D Scanning                 3.0  \n",
            "9         AI Customization                 3.0  \n",
            "11             3D Scanning                 3.0  \n",
            "2              3D Scanning                 2.0  \n",
            "5         AI Customization                 2.0  \n",
            "7              3D Scanning                 2.0  \n",
            "0              3D Scanning                 1.0  \n",
            "8              3D Scanning                 1.0  \n"
          ]
        }
      ]
    },
    {
      "cell_type": "markdown",
      "source": [
        "# New Section"
      ],
      "metadata": {
        "id": "VpkWgB17xgiQ"
      }
    }
  ]
}
